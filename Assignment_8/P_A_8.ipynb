{
 "cells": [
  {
   "cell_type": "code",
   "execution_count": 8,
   "id": "f90db1f6-ac68-4c9d-8440-3b2763c59b52",
   "metadata": {},
   "outputs": [
    {
     "name": "stdout",
     "output_type": "stream",
     "text": [
      "MMMDXLIX\n",
      "3549\n"
     ]
    }
   ],
   "source": [
    "# 1) Write a python class to convert an integer into a roman numeral and viceversa\n",
    "class RomanNumerals:\n",
    "    roman_numerals = {\n",
    "        1: \"I\", 4: \"IV\", 5: \"V\", 9: \"IX\", 10: \"X\", 40: \"XL\", 50: \"L\",\n",
    "        90: \"XC\", 100: \"C\", 400: \"CD\", 500: \"D\", 900: \"CM\", 1000: \"M\"\n",
    "    }\n",
    "    \n",
    "    @classmethod\n",
    "    def int_to_roman(cls, num):\n",
    "        result = \"\"\n",
    "        for value in sorted(cls.roman_numerals.keys(), reverse=True):\n",
    "            while num >= value:\n",
    "                result += cls.roman_numerals[value]\n",
    "                num -= value\n",
    "        return result\n",
    "    \n",
    "    @classmethod\n",
    "    def roman_to_int(cls, roman):\n",
    "        roman_to_int_map = {v: k for k, v in cls.roman_numerals.items()}\n",
    "        i, result = 0, 0\n",
    "        while i < len(roman):\n",
    "            if i + 1 < len(roman) and roman[i:i+2] in roman_to_int_map:\n",
    "                result += roman_to_int_map[roman[i:i+2]]\n",
    "                i += 2\n",
    "            else:\n",
    "                result += roman_to_int_map[roman[i]]\n",
    "                i += 1\n",
    "        return result\n",
    "\n",
    "print(RomanNumerals.int_to_roman(3549))\n",
    "print(RomanNumerals.roman_to_int(\"MMMDXLIX\"))\n"
   ]
  },
  {
   "cell_type": "code",
   "execution_count": 9,
   "id": "05bf5d7b-4220-44eb-a04a-f99637c25b4d",
   "metadata": {},
   "outputs": [
    {
     "name": "stdout",
     "output_type": "stream",
     "text": [
      "True\n",
      "True\n",
      "False\n",
      "False\n",
      "False\n"
     ]
    }
   ],
   "source": [
    "\"\"\"Write a Python class to find validity of a string of parentheses, '(', ')', '{', '}', '[' and ']. \n",
    "These brackets must be close in the correct order, for example \"()\" and \"()[]{}\" are valid but \"[)\", \"({[)]\" and \"{{{\" are invalid.\"\"\" \n",
    "class ParenthesesValidator:\n",
    "    def __init__(self, s):\n",
    "        self.s = s\n",
    "\n",
    "    def is_valid(self):\n",
    "        stack = []\n",
    "        pairs = {')': '(', '}': '{', ']': '['}\n",
    "        for char in self.s:\n",
    "            if char in pairs:\n",
    "                if not stack or stack.pop() != pairs[char]:\n",
    "                    return False\n",
    "            else:\n",
    "                stack.append(char)\n",
    "        return not stack\n",
    "print(ParenthesesValidator(\"()\").is_valid())        \n",
    "print(ParenthesesValidator(\"()[]{}\").is_valid())   \n",
    "print(ParenthesesValidator(\"(]\").is_valid()) \n",
    "print(ParenthesesValidator(\"({[)]}\").is_valid()) \n",
    "print(ParenthesesValidator(\"{{{\").is_valid())    \n"
   ]
  },
  {
   "cell_type": "code",
   "execution_count": 28,
   "id": "87de63ec-063b-463e-879f-4ce4ebe26593",
   "metadata": {},
   "outputs": [
    {
     "name": "stdout",
     "output_type": "stream",
     "text": [
      "[[], [4], [5], [4, 5], [6], [4, 6], [5, 6], [4, 5, 6]]\n"
     ]
    }
   ],
   "source": [
    "\"\"\"Write a Python class to get all possible unique subsets from a set of distinct integers Input : [4, 5, 6] \n",
    "Output : [[], [6], [5], [5, 6], [4], [4, 6], [4, 5], [4, 5, 6]\"\"\"\n",
    "class SubsetGenerator:\n",
    "    def __init__(self, nums):\n",
    "        self.nums = nums\n",
    "\n",
    "    def get_subsets(self):\n",
    "        subsets = [[]]\n",
    "        for num in self.nums:\n",
    "            new_subsets = [subset + [num] for subset in subsets]\n",
    "            subsets.extend(new_subsets)\n",
    "        return subsets\n",
    "\n",
    "print(SubsetGenerator([4, 5, 6]).get_subsets())"
   ]
  },
  {
   "cell_type": "code",
   "execution_count": 29,
   "id": "87bf53a2-d007-4575-a1e4-ced0e8f68193",
   "metadata": {},
   "outputs": [
    {
     "name": "stdout",
     "output_type": "stream",
     "text": [
      "(2, 3)\n"
     ]
    }
   ],
   "source": [
    "\"\"\"Write a Python class to find a pair of elements (indices of the two numbers) from a given array whose sum equals a specific target number. Note: There will be one solution for each input and do not use the same \n",
    "element twice. Input: numbers= [90, 20,10,40,50,60,70], target=50 Output: 3, 4 \"\"\"\n",
    "class PairFinder:\n",
    "    def __init__(self, nums, target):\n",
    "        self.nums = nums\n",
    "        self.target = target\n",
    "\n",
    "    def find_pair(self):\n",
    "        for i in range(len(self.nums)):\n",
    "            for j in range(i + 1, len(self.nums)):\n",
    "                if self.nums[i] + self.nums[j] == self.target:\n",
    "                    return i, j\n",
    "\n",
    "numbers = [90, 20, 10, 40, 50, 60, 70]\n",
    "target = 50\n",
    "print(PairFinder(numbers, target).find_pair())\n"
   ]
  },
  {
   "cell_type": "code",
   "execution_count": 12,
   "id": "c2d7ec41-916b-4cdc-b7d5-44354d8cd192",
   "metadata": {},
   "outputs": [
    {
     "name": "stdout",
     "output_type": "stream",
     "text": [
      "[[-10, 2, 8], [-7, -3, 10]]\n"
     ]
    }
   ],
   "source": [
    "\"\"\"Write a Python class to find the three elements that sum to zero from a set of n real numbers. \n",
    "Input array : [-25, -10, -7, -3, 2, 4, 8, 10] Output : [[-10, 2, 8], [-7, -3, 10]] \"\"\"\n",
    "class ThreeSumFinder:\n",
    "    @staticmethod\n",
    "    def find_triplets(nums):\n",
    "        nums.sort() \n",
    "        result = []\n",
    "        n = len(nums)\n",
    "\n",
    "        for i in range(n - 2):\n",
    "            for j in range(i + 1, n - 1):\n",
    "                for k in range(j + 1, n):\n",
    "                    if nums[i] + nums[j] + nums[k] == 0:\n",
    "                        result.append([nums[i], nums[j], nums[k]])\n",
    "\n",
    "        return result\n",
    "\n",
    "numbers = [-25, -10, -7, -3, 2, 4, 8, 10]\n",
    "print(ThreeSumFinder.find_triplets(numbers))"
   ]
  },
  {
   "cell_type": "code",
   "execution_count": 13,
   "id": "80632201-eac5-44ce-b775-7c03ae6105ff",
   "metadata": {},
   "outputs": [
    {
     "name": "stdout",
     "output_type": "stream",
     "text": [
      "8\n",
      "0.04\n",
      "1\n"
     ]
    }
   ],
   "source": [
    "# Write a Python class to implement pow(x, n) \n",
    "class PowerCalculator:\n",
    "    @staticmethod\n",
    "    def power(x, n):\n",
    "        if n == 0:\n",
    "            return 1\n",
    "        elif n < 0:\n",
    "            return 1 / PowerCalculator.power(x, -n)\n",
    "        elif n % 2 == 0:\n",
    "            half = PowerCalculator.power(x, n // 2)\n",
    "            return half * half\n",
    "        else:\n",
    "            return x * PowerCalculator.power(x, n - 1)\n",
    "\n",
    "print(PowerCalculator.power(2, 3))  \n",
    "print(PowerCalculator.power(5, -2))\n",
    "print(PowerCalculator.power(3, 0))\n"
   ]
  },
  {
   "cell_type": "code",
   "execution_count": 14,
   "id": "34db1dda-7a09-4183-9f5f-ebaf97527cb5",
   "metadata": {},
   "outputs": [
    {
     "name": "stdout",
     "output_type": "stream",
     "text": [
      ".py hello\n"
     ]
    }
   ],
   "source": [
    "\"\"\"Write a Python class to reverse a string word by word. \n",
    "Input string : 'hello .py' Expected Output : '.py hello' \"\"\"\n",
    "\n",
    "class StringReverser:\n",
    "    @staticmethod\n",
    "    def reverse_words(s):\n",
    "        return \" \".join(s.split()[::-1])\n",
    "\n",
    "# Example usage:\n",
    "input_string = \"hello .py\"\n",
    "print(StringReverser.reverse_words(input_string))"
   ]
  },
  {
   "cell_type": "code",
   "execution_count": 15,
   "id": "58a445a7-c86a-4e67-b748-79073a4e2ffd",
   "metadata": {},
   "outputs": [
    {
     "name": "stdin",
     "output_type": "stream",
     "text": [
      "Enter a string:  haseeb\n"
     ]
    },
    {
     "name": "stdout",
     "output_type": "stream",
     "text": [
      "beesah\n"
     ]
    }
   ],
   "source": [
    "\"\"\" Write a python class which has 2 methods get_string and print_string. get_string \n",
    "takes a string from the user and print_string prints the string in reverse order \"\"\"\n",
    "class StringManipulator:\n",
    "    def __init__(self):\n",
    "        self.s = \"\"\n",
    "\n",
    "    def get_string(self):\n",
    "        self.s = input(\"Enter a string: \")\n",
    "    def print_string(self):\n",
    "        print(self.s[::-1]) \n",
    "        \n",
    "obj = StringManipulator()\n",
    "obj.get_string()\n",
    "obj.print_string()\n"
   ]
  },
  {
   "cell_type": "code",
   "execution_count": 16,
   "id": "01ad31b4-c110-4056-a67c-7fa91bbfdd87",
   "metadata": {},
   "outputs": [
    {
     "name": "stdout",
     "output_type": "stream",
     "text": [
      "Area: 78.53981633974483\n",
      "Perimeter: 31.41592653589793\n"
     ]
    }
   ],
   "source": [
    "# Write a Python class named Circle constructed by a radius and two methods which will compute the area and the perimeter of a circle. \n",
    "import math\n",
    "class Circle:\n",
    "    def __init__(self, radius):\n",
    "        self.radius = radius\n",
    "\n",
    "    def area(self):\n",
    "        return math.pi * self.radius ** 2 \n",
    "\n",
    "    def perimeter(self):\n",
    "        return 2 * math.pi * self.radius \n",
    "\n",
    "circle = Circle(5)\n",
    "print(\"Area:\", circle.area())         \n",
    "print(\"Perimeter:\", circle.perimeter())  \n"
   ]
  },
  {
   "cell_type": "code",
   "execution_count": 30,
   "id": "a2ee70cf-b4df-493f-a7c2-e15df9b76a89",
   "metadata": {},
   "outputs": [
    {
     "name": "stdout",
     "output_type": "stream",
     "text": [
      "hello\n"
     ]
    }
   ],
   "source": [
    "# Write a Python program to get the class name of an instance in Python.\n",
    "class hello:\n",
    "    pass\n",
    "obj = hello()\n",
    "print(obj.__class__.__name__)"
   ]
  },
  {
   "cell_type": "code",
   "execution_count": 18,
   "id": "a53a3eef-daaa-48c4-ab51-3260d9e7e4bd",
   "metadata": {},
   "outputs": [
    {
     "name": "stdout",
     "output_type": "stream",
     "text": [
      "25\n",
      "48\n"
     ]
    }
   ],
   "source": [
    "\"\"\"Write a Python program to create a lambda function that adds 15 to a given number passed in as an argument, also create a lambda function \n",
    "that multiplies argument x with argument y and print the result.\n",
    " Sample Output: 25 48 \"\"\"\n",
    "add_15 = lambda x: x + 15\n",
    "multiply = lambda x, y: x * y\n",
    "print(add_15(10))\n",
    "print(multiply(6, 8))"
   ]
  },
  {
   "cell_type": "code",
   "execution_count": 19,
   "id": "4144ae68-ac79-4ca3-9378-e83005ac05bd",
   "metadata": {},
   "outputs": [
    {
     "name": "stdout",
     "output_type": "stream",
     "text": [
      "[('Social sciences', 82), ('English', 88), ('Science', 90), ('Maths', 97)]\n"
     ]
    }
   ],
   "source": [
    "\"\"\" Write a Python program to sort a list of tuples using Lambda. \n",
    "Original list of tuples: [('English', 88), ('Science', 90), ('Maths', 97), ('Social sciences', 82)]\n",
    "Sorting the List of Tuples: [('Social sciences', 82), ('English', 88), ('Science', 90), ('Maths', 97)]\"\"\"\n",
    "subjects = [('English', 88), ('Science', 90), ('Maths', 97), ('Social sciences', 82)]\n",
    "subjects_sorted = sorted(subjects, key=lambda x: x[1])\n",
    "print(subjects_sorted)"
   ]
  },
  {
   "cell_type": "code",
   "execution_count": 20,
   "id": "fdf8d50c-e71a-441b-a3c7-cd664732f870",
   "metadata": {},
   "outputs": [
    {
     "name": "stdout",
     "output_type": "stream",
     "text": [
      "[{'name': 'Danish', 'age': 20}, {'name': 'mama', 'age': 23}, {'name': 'HAseb', 'age': 25}]\n"
     ]
    }
   ],
   "source": [
    "#  Write a Python program to sort a list of dictionaries using Lambda. \n",
    "students = [\n",
    "    {\"name\": \"HAseb\", \"age\": 25},\n",
    "    {\"name\": \"Danish\", \"age\": 20},\n",
    "    {\"name\": \"mama\", \"age\": 23}\n",
    "]\n",
    "sorted_students = sorted(students, key=lambda x: x[\"age\"])\n",
    "print(sorted_students)"
   ]
  },
  {
   "cell_type": "code",
   "execution_count": 32,
   "id": "79f5f4f2-1152-462c-b281-11d1a0c4b04d",
   "metadata": {},
   "outputs": [
    {
     "name": "stdout",
     "output_type": "stream",
     "text": [
      "True\n",
      "False\n"
     ]
    }
   ],
   "source": [
    "#  Write a Python program to find if a given string starts with a given character using Lambda.\n",
    "starts_with = lambda s, char: s.startswith(char)\n",
    "print(starts_with(\"Hello\", \"H\")) \n",
    "print(starts_with(\"Lambda\", \"i\")) "
   ]
  },
  {
   "cell_type": "code",
   "execution_count": 33,
   "id": "8cee0e58-0199-4817-89ce-553a0dbf2494",
   "metadata": {},
   "outputs": [
    {
     "name": "stdout",
     "output_type": "stream",
     "text": [
      "True\n",
      "False\n"
     ]
    }
   ],
   "source": [
    "# Write a Python program to check whether a given string is number or not using Lambda. \n",
    "is_number = lambda s: s.replace(\".\", \"\", 1).isdigit()\n",
    "print(is_number(\"123\"))    \n",
    "print(is_number(\"abc\"))     "
   ]
  },
  {
   "cell_type": "code",
   "execution_count": 23,
   "id": "749326a6-2f77-44fc-b304-10163d78b664",
   "metadata": {},
   "outputs": [
    {
     "name": "stdout",
     "output_type": "stream",
     "text": [
      "[19, 65, 57, 39, 152, 190]\n"
     ]
    }
   ],
   "source": [
    "\"\"\" Write a Python program to find numbers divisible by nineteen or thirteen from a list of numbers using Lambda \n",
    "Orginal list: [19, 65, 57, 39, 152, 639, 121, 44, 90, 190] \n",
    "Numbers of the above list divisible by nineteen or thirteen: [19, 65, 57, 39, 152, 190] \n",
    "\"\"\"\n",
    "numbers = [19, 65, 57, 39, 152, 639, 121, 44, 90, 190]\n",
    "divisible = list(filter(lambda x: x % 19 == 0 or x % 13 == 0, numbers))\n",
    "print(divisible)"
   ]
  },
  {
   "cell_type": "code",
   "execution_count": 24,
   "id": "17cdd0d3-5b3e-47a2-bb02-0024348d6e38",
   "metadata": {},
   "outputs": [
    {
     "name": "stdout",
     "output_type": "stream",
     "text": [
      "[[1, 1, 1], [1, 2, 3], [2, 4, 5]]\n",
      "[[-2, 4, -5], [1, -1, 1], [1, 2, 3]]\n"
     ]
    }
   ],
   "source": [
    "\n",
    "\"\"\"7) Write a Python program to sort a given matrix in ascending order according to the sum of its rows using lambda. \n",
    "Original Matrix: [[1, 2, 3], [2, 4, 5], [1, 1, 1]] \n",
    "Sort the said matrix in ascending order according to the sum of its rows [[1, 1, 1], [1, 2, 3], [2, 4, 5]]\n",
    " Original Matrix: [[1, 2, 3], [-2, 4, -5], [1, -1, 1]] \n",
    "Sort the said matrix in ascending order according to the sum of its rows [[-2, 4, -5], [1, -1, 1], [1, 2, 3]] \n",
    "\"\"\"\n",
    "def sort_matrix_by_row_sum(matrix):\n",
    "    return sorted(matrix, key=lambda row: sum(row))\n",
    "\n",
    "matrix1 = [[1, 2, 3], [2, 4, 5], [1, 1, 1]]\n",
    "matrix2 = [[1, 2, 3], [-2, 4, -5], [1, -1, 1]]\n",
    "sorted_matrix1 = sort_matrix_by_row_sum(matrix1)\n",
    "sorted_matrix2 = sort_matrix_by_row_sum(matrix2)\n",
    "print(sorted_matrix1)  \n",
    "print(sorted_matrix2) "
   ]
  },
  {
   "cell_type": "code",
   "execution_count": 25,
   "id": "1065ccad-9792-406b-bc3e-1b239c6117df",
   "metadata": {},
   "outputs": [
    {
     "name": "stdout",
     "output_type": "stream",
     "text": [
      "Valid string\n"
     ]
    }
   ],
   "source": [
    "\"\"\"Write a Python program to check whether a given string contains a capital letter, a lower case letter, a number and a minimum length using lambda. \n",
    "Minimum length : 10 input string: PaceWisd0m o/p: valid string\"\"\"\n",
    "is_valid = lambda s: (\n",
    "    any(c.isupper() for c in s) and \n",
    "    any(c.islower() for c in s) and  \n",
    "    any(c.isdigit() for c in s) and  \n",
    "    len(s) >= 10                    \n",
    ")\n",
    "input_string = \"PaceWisd0m\"\n",
    "print(\"Valid string\" if is_valid(input_string) else \"Invalid string\")\n"
   ]
  },
  {
   "cell_type": "code",
   "execution_count": 26,
   "id": "06e72dab-bb30-4cc0-9b83-4155326b57d0",
   "metadata": {},
   "outputs": [
    {
     "name": "stdout",
     "output_type": "stream",
     "text": [
      "['black']\n",
      "[]\n"
     ]
    }
   ],
   "source": [
    "\"\"\"9) Write a Python program to find the elements of a given list of strings that contain specific substring using lambda. \n",
    "Original list: ['red', 'black', 'white', 'green', 'orange'] \n",
    "Substring to search: ack Elements of the said list that contain specific substring: ['black'] Substring to search: abc \n",
    "Elements of the said list that contain specific substring: [] \"\"\"\n",
    "find_substring = lambda words, sub: list(filter(lambda word: sub in word, words))\n",
    "words_list = ['red', 'black', 'white', 'green', 'orange']\n",
    "substring1 = \"ack\"\n",
    "substring2 = \"abc\"\n",
    "print(find_substring(words_list, substring1)) \n",
    "print(find_substring(words_list, substring2))\n"
   ]
  },
  {
   "cell_type": "code",
   "execution_count": 27,
   "id": "561e8cf3-e80a-4d73-a156-61718dfa5fc7",
   "metadata": {},
   "outputs": [
    {
     "name": "stdout",
     "output_type": "stream",
     "text": [
      "[1, 10, 12, 19, 'blue', 'green', 'green', 'red', 'white']\n"
     ]
    }
   ],
   "source": [
    "\"\"\"Write a Python program to sort a given mixed list of integers and strings using lambda. Numbers must be sorted before strings. \n",
    "Original list: [19, 'red', 12, 'green', 'blue', 10, 'white', 'green', 1] \n",
    "Sort the said mixed list of integers and strings: [1, 10, 12, 19, 'blue', 'green', 'green', 'red', 'white\n",
    "\"\"\"\n",
    "mixed_list = [19, 'red', 12, 'green', 'blue', 10, 'white', 'green', 1]\n",
    "sorted_list = sorted(mixed_list, key=lambda x: (isinstance(x, str), x))\n",
    "print(sorted_list)"
   ]
  }
 ],
 "metadata": {
  "kernelspec": {
   "display_name": "Python 3 (ipykernel)",
   "language": "python",
   "name": "python3"
  },
  "language_info": {
   "codemirror_mode": {
    "name": "ipython",
    "version": 3
   },
   "file_extension": ".py",
   "mimetype": "text/x-python",
   "name": "python",
   "nbconvert_exporter": "python",
   "pygments_lexer": "ipython3",
   "version": "3.12.6"
  }
 },
 "nbformat": 4,
 "nbformat_minor": 5
}
