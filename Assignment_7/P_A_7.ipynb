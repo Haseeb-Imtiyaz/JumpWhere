{
 "cells": [
  {
   "cell_type": "code",
   "execution_count": 1,
   "id": "56bfe0e0-4717-4698-90d2-97fc4a78d241",
   "metadata": {},
   "outputs": [
    {
     "name": "stdout",
     "output_type": "stream",
     "text": [
      "Ascending Order: {'Danish': 1, 'Mudi': 2, 'Haseeb': 3, 'Venom': 5}\n",
      "Descending Order: {'Venom': 5, 'Haseeb': 3, 'Mudi': 2, 'Danish': 1}\n"
     ]
    }
   ],
   "source": [
    "# Write a Python script to sort (ascending and descending) a dictionary by value.\n",
    "dict1 = {'Haseeb': 3, 'Danish': 1, 'Mudi': 2, 'Venom': 5}\n",
    "ascending_dict = dict(sorted(dict1.items(), key=lambda item: item[1]))\n",
    "print(\"Ascending Order:\", ascending_dict)\n",
    "descending_dict = dict(sorted(dict1.items(), key=lambda item: item[1], reverse=True))\n",
    "print(\"Descending Order:\", descending_dict)"
   ]
  },
  {
   "cell_type": "code",
   "execution_count": 1,
   "id": "105a34c0-a885-410e-8419-ba5c99c94420",
   "metadata": {},
   "outputs": [
    {
     "data": {
      "text/plain": [
       "{0: 10, 1: 20, 2: 30}"
      ]
     },
     "execution_count": 1,
     "metadata": {},
     "output_type": "execute_result"
    }
   ],
   "source": [
    "\"\"\"Write a Python script to add a key to a dictionary.\n",
    "Sample Dictionary : {0: 10, 1: 20}\n",
    "Expected Result : {0: 10, 1: 20, 2: 30}\n",
    "\"\"\"\n",
    "Sample_Dictionary = {0: 10, 1: 20}\n",
    "Sample_Dictionary[2]=30\n",
    "Sample_Dictionary"
   ]
  },
  {
   "cell_type": "code",
   "execution_count": 3,
   "id": "8dd1326c-b58e-4794-954d-b389da5419c4",
   "metadata": {},
   "outputs": [
    {
     "data": {
      "text/plain": [
       "{1: 10, 2: 20, 3: 30, 4: 40, 5: 50, 6: 60}"
      ]
     },
     "execution_count": 3,
     "metadata": {},
     "output_type": "execute_result"
    }
   ],
   "source": [
    "\"\"\"Write a Python script to concatenate following dictionaries to create a new one.\n",
    "Sample Dictionary :\n",
    "dic1={1:10, 2:20}\n",
    "dic2={3:30, 4:40}\n",
    "dic3={5:50,6:60}\n",
    "Expected Result : {1: 10, 2: 20, 3: 30, 4: 40, 5: 50, 6: 60}\n",
    "\"\"\"\n",
    "dic1={1:10, 2:20}\n",
    "dic2={3:30, 4:40}\n",
    "dic3={5:50,6:60}\n",
    "dic={**dic1, **dic2, **dic3}\n",
    "dic"
   ]
  },
  {
   "cell_type": "code",
   "execution_count": 13,
   "id": "93f7c3c0-5f03-47d5-9d58-b46cad1821f9",
   "metadata": {},
   "outputs": [
    {
     "name": "stdout",
     "output_type": "stream",
     "text": [
      "Key 13 exists: False\n"
     ]
    }
   ],
   "source": [
    "# Write a Python script to check if a given key already exists in a dictionary.\n",
    "key1=13\n",
    "print(f\"Key {key1} exists:\" , key1 in dic)"
   ]
  },
  {
   "cell_type": "code",
   "execution_count": 15,
   "id": "245f4c8e-5125-42e3-aba1-839c11dc28f6",
   "metadata": {},
   "outputs": [
    {
     "name": "stdout",
     "output_type": "stream",
     "text": [
      "1 10\n",
      "2 20\n",
      "3 30\n",
      "4 40\n",
      "5 50\n",
      "6 60\n"
     ]
    }
   ],
   "source": [
    "# 5. Write a Python program to iterate over dictionaries using for loops.\n",
    "for i,j in dic.items():\n",
    "    print(i,j)"
   ]
  },
  {
   "cell_type": "code",
   "execution_count": 16,
   "id": "4924ffa7-f194-4f1c-b9a9-7eada1daeaa0",
   "metadata": {},
   "outputs": [
    {
     "name": "stdin",
     "output_type": "stream",
     "text": [
      "Enter n 4\n"
     ]
    },
    {
     "data": {
      "text/plain": [
       "{1: 1, 2: 4, 3: 9, 4: 16}"
      ]
     },
     "execution_count": 16,
     "metadata": {},
     "output_type": "execute_result"
    }
   ],
   "source": [
    "\"\"\"6. Write a Python script to generate and print a dictionary that contains a number (between 1 and n) in the form (x, x*x). \n",
    "Sample Dictionary ( n = 5) :\n",
    "Expected Output : {1: 1, 2: 4, 3: 9, 4: 16, 5: 25}\n",
    "\"\"\"\n",
    "dic={}\n",
    "n=int(input(\"Enter n\"))\n",
    "for i in range(1,n+1):\n",
    "    dic[i]=i*i\n",
    "dic"
   ]
  },
  {
   "cell_type": "code",
   "execution_count": 17,
   "id": "abc4e5ab-4449-449e-b57a-ef42c38c7952",
   "metadata": {},
   "outputs": [
    {
     "data": {
      "text/plain": [
       "{1: 10, 2: 20, 3: 30, 4: 40}"
      ]
     },
     "execution_count": 17,
     "metadata": {},
     "output_type": "execute_result"
    }
   ],
   "source": [
    "# Write a Python script to merge two Python dictionaries.\n",
    "dic1={1:10, 2:20}\n",
    "dic2={3:30, 4:40}\n",
    "dic3={**dic1,**dic2}\n",
    "dic3"
   ]
  },
  {
   "cell_type": "code",
   "execution_count": 19,
   "id": "4ef9f90f-4bf5-47cf-bd09-11ca27fa2979",
   "metadata": {},
   "outputs": [
    {
     "name": "stdout",
     "output_type": "stream",
     "text": [
      "100\n"
     ]
    }
   ],
   "source": [
    "# Write a Python program to sum all the items in a dictionary.\n",
    "sums=0\n",
    "for i in dic3.values():\n",
    "    sums=sums+i\n",
    "print(sums)"
   ]
  },
  {
   "cell_type": "code",
   "execution_count": 20,
   "id": "6bb6751b-0335-4c4a-8a37-62d5e0177093",
   "metadata": {},
   "outputs": [
    {
     "name": "stdout",
     "output_type": "stream",
     "text": [
      "240000\n"
     ]
    }
   ],
   "source": [
    "#  Write a Python program to multiply all the items in a dictionary.\n",
    "mul=1\n",
    "for i in dic3.values():\n",
    "    mul=mul*i\n",
    "print(mul)"
   ]
  },
  {
   "cell_type": "code",
   "execution_count": 21,
   "id": "e6b678de-34cc-46e6-8a8c-ac0be69af055",
   "metadata": {},
   "outputs": [
    {
     "data": {
      "text/plain": [
       "{2: 20, 3: 30, 4: 40}"
      ]
     },
     "execution_count": 21,
     "metadata": {},
     "output_type": "execute_result"
    }
   ],
   "source": [
    "# Write a Python program to remove a key from a dictionary.\n",
    "key=1\n",
    "dic3.pop(key)\n",
    "dic3"
   ]
  },
  {
   "cell_type": "code",
   "execution_count": 23,
   "id": "cd1e1047-087d-4d25-8851-469580ff6c4c",
   "metadata": {},
   "outputs": [
    {
     "name": "stdout",
     "output_type": "stream",
     "text": [
      "{6: 60, 5: 50, 4: 40, 3: 30, 2: 20, 1: 10}\n"
     ]
    }
   ],
   "source": [
    "# Write a Python program to sort a dictionary by key\n",
    "dic1 = {1: 10, 2: 20, 3: 30, 4: 40, 5: 50, 6: 60}\n",
    "sorted_dict = dict(sorted(dic1.items(),reverse=True))\n",
    "print(sorted_dict)"
   ]
  },
  {
   "cell_type": "code",
   "execution_count": 24,
   "id": "6081edbc-0218-43e6-8285-153c57099695",
   "metadata": {},
   "outputs": [
    {
     "name": "stdout",
     "output_type": "stream",
     "text": [
      "Max 60\n",
      "Min 10\n"
     ]
    }
   ],
   "source": [
    "# Write a Python program to get the maximum and minimum value in a dictionary. \n",
    "print('Max',max(dic1.values()))\n",
    "print('Min',min(dic1.values()))"
   ]
  },
  {
   "cell_type": "code",
   "execution_count": 25,
   "id": "4a152e40-2daa-4ab2-9920-9d79ff39bb26",
   "metadata": {},
   "outputs": [
    {
     "name": "stdout",
     "output_type": "stream",
     "text": [
      "{1: 10, 2: 20, 4: 30, 6: 60}\n"
     ]
    }
   ],
   "source": [
    "# Write a Python program to remove duplicates from Dictionary.\n",
    "dic1 = {1: 10, 2: 20, 3: 10, 4: 30, 5: 20, 6: 60}\n",
    "unique_dict = {}\n",
    "for key, value in dic1.items():\n",
    "    if value not in unique_dict.values():\n",
    "        unique_dict[key] = value\n",
    "print(unique_dict)"
   ]
  },
  {
   "cell_type": "code",
   "execution_count": 26,
   "id": "3ef331ba-ce53-426d-a97c-1d0ac722dfff",
   "metadata": {},
   "outputs": [
    {
     "name": "stdout",
     "output_type": "stream",
     "text": [
      "The dictionary is empty.\n"
     ]
    }
   ],
   "source": [
    "# Write a Python program to check a dictionary is empty or not. \n",
    "dic1 = {}\n",
    "if not dic1:\n",
    "    print(\"The dictionary is empty.\")\n",
    "else:\n",
    "    print(\"The dictionary is not empty.\")\n"
   ]
  },
  {
   "cell_type": "code",
   "execution_count": 27,
   "id": "76c4e6b9-6e3d-4a95-85f9-c6dc4ff5387d",
   "metadata": {},
   "outputs": [
    {
     "name": "stdout",
     "output_type": "stream",
     "text": [
      "{'a': 400, 'b': 400, 'c': 300, 'd': 400}\n"
     ]
    }
   ],
   "source": [
    "\"\"\"15. Write a Python program to combine two dictionary adding values for common keys.\n",
    "d1 = {'a': 100, 'b': 200, 'c':300}\n",
    "d2 = {'a': 300, 'b': 200, 'd':400}\n",
    "Sample output: Counter({'a': 400, 'b': 400, 'd': 400, 'c': 300})\"\"\"\n",
    "\n",
    "d1 = {'a': 100, 'b': 200, 'c': 300}\n",
    "d2 = {'a': 300, 'b': 200, 'd': 400}\n",
    "\n",
    "for key in d2:\n",
    "    d1[key] = d1.get(key, 0) + d2[key]\n",
    "\n",
    "print(d1)\n"
   ]
  },
  {
   "cell_type": "code",
   "execution_count": 28,
   "id": "cb4c3970-9498-4fe7-a676-46318c417726",
   "metadata": {},
   "outputs": [
    {
     "name": "stdout",
     "output_type": "stream",
     "text": [
      "[70, 50, 30]\n"
     ]
    }
   ],
   "source": [
    "# Write a Python program to find the highest 3 values in a dictionary.\n",
    "dic1 = {'a': 10, 'b': 50, 'c': 30, 'd': 70, 'e': 20}\n",
    "highest_values = sorted(dic1.values(), reverse=True)[:3]\n",
    "print(highest_values)\n"
   ]
  },
  {
   "cell_type": "code",
   "execution_count": 29,
   "id": "1ea1f695-14d6-4ef3-9059-fcc2e40d80f3",
   "metadata": {},
   "outputs": [
    {
     "name": "stdout",
     "output_type": "stream",
     "text": [
      "key1: 1 is present in both x and y\n"
     ]
    }
   ],
   "source": [
    "\"\"\"17. Write a Python program to match key values in two dictionaries.\n",
    "Sample dictionary: {'key1': 1, 'key2': 3, 'key3': 2}, {'key1': 1, 'key2': 2}\n",
    "Expected output: key1: 1 is present in both x and y\n",
    "\"\"\"\n",
    "x = {'key1': 1, 'key2': 3, 'key3': 2}\n",
    "y = {'key1': 1, 'key2': 2}\n",
    "for key in x:\n",
    "    if key in y and x[key] == y[key]:\n",
    "        print(f\"{key}: {x[key]} is present in both x and y\")\n"
   ]
  },
  {
   "cell_type": "code",
   "execution_count": 30,
   "id": "ff71b9c2-7011-4155-8bc9-0b7bf09e0ba2",
   "metadata": {},
   "outputs": [
    {
     "name": "stdout",
     "output_type": "stream",
     "text": [
      "True\n",
      "False\n"
     ]
    }
   ],
   "source": [
    "\"\"\"18. Write a Python program to check if all dictionaries in a list are empty or not.\n",
    "Sample list : [{},{},{}]\n",
    "Return value : True\n",
    "Sample list : [{1,2},{},{}]\n",
    "Return value : False\n",
    "\"\"\"\n",
    "list1 = [{}, {}, {}]\n",
    "list2 = [{1, 2}, {}, {}]\n",
    "print(all(not d for d in list1))\n",
    "print(all(not d for d in list2))"
   ]
  },
  {
   "cell_type": "code",
   "execution_count": 31,
   "id": "7b9c92ce-453c-4599-bd8c-2af0a5cbdd49",
   "metadata": {},
   "outputs": [
    {
     "name": "stdout",
     "output_type": "stream",
     "text": [
      "[[10, 20], [40], [30, 56, 25], [33]]\n"
     ]
    }
   ],
   "source": [
    "\"\"\" Write a Python program to remove duplicates from a list of lists.\n",
    "Sample list : [[10, 20], [40], [30, 56, 25], [10, 20], [33], [40]]\n",
    "New List : [[10, 20], [30, 56, 25], [33], [40]]\n",
    "\"\"\"\n",
    "list_of_lists = [[10, 20], [40], [30, 56, 25], [10, 20], [33], [40]]\n",
    "unique_list = []\n",
    "for lst in list_of_lists:\n",
    "    if lst not in unique_list:\n",
    "        unique_list.append(lst)\n",
    "print(unique_list)\n"
   ]
  },
  {
   "cell_type": "code",
   "execution_count": 32,
   "id": "25bd74fc-de38-4cc7-a4c0-14c91e4520d3",
   "metadata": {},
   "outputs": [
    {
     "name": "stdout",
     "output_type": "stream",
     "text": [
      "[40, 50, 60, 10, 20, 30]\n"
     ]
    }
   ],
   "source": [
    "\"\"\"20. Write a Python program to extend a list without append.\n",
    "Sample data: [10, 20, 30]\n",
    "[40, 50, 60]\n",
    "Expected output : [40, 50, 60, 10, 20, 30]\n",
    "\"\"\"\n",
    "list1 = [10, 20, 30]\n",
    "list2 = [40, 50, 60]\n",
    "list1 = list2 + list1  \n",
    "print(list1)\n"
   ]
  }
 ],
 "metadata": {
  "kernelspec": {
   "display_name": "Python 3 (ipykernel)",
   "language": "python",
   "name": "python3"
  },
  "language_info": {
   "codemirror_mode": {
    "name": "ipython",
    "version": 3
   },
   "file_extension": ".py",
   "mimetype": "text/x-python",
   "name": "python",
   "nbconvert_exporter": "python",
   "pygments_lexer": "ipython3",
   "version": "3.12.6"
  }
 },
 "nbformat": 4,
 "nbformat_minor": 5
}
