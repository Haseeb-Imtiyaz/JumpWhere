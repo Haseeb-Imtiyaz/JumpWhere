{
 "cells": [
  {
   "cell_type": "code",
   "execution_count": 1,
   "id": "e3222a86-c3f1-40cf-8d38-d4748f04434c",
   "metadata": {},
   "outputs": [],
   "source": [
    "def get_cows_and_bulls(secret, guess):\n",
    "    cows = sum(s == g for s, g in zip(secret, guess))\n",
    "    bulls = sum((secret.count(g) - (s == g)) for s, g in zip(secret, guess) if g in secret)\n",
    "    return cows, bulls\n",
    "def play_game():\n",
    "    print(\"Welcome to the Cows and Bulls Game!\")\n",
    "    secret_number = \"1234\" \n",
    "    attempts = 0    \n",
    "    while True:\n",
    "        guess = input(\"Enter a 4-digit number with unique digits: \")\n",
    "        if len(guess) != 4 or not guess.isdigit() or len(set(guess)) != 4:\n",
    "            print(\"Invalid input. Please enter a 4-digit number with unique digits.\")\n",
    "            continue      \n",
    "        attempts += 1\n",
    "        cows, bulls = get_cows_and_bulls(secret_number, guess)\n",
    "        print(f\"{cows} cows, {bulls} bulls\")       \n",
    "        if cows == 4:\n",
    "            print(f\"Congratulations! You guessed the number in {attempts} attempts.\")\n",
    "            break"
   ]
  },
  {
   "cell_type": "code",
   "execution_count": 2,
   "id": "6788ed44-3c6a-4806-af4e-3d9a6f7ec154",
   "metadata": {},
   "outputs": [
    {
     "name": "stdout",
     "output_type": "stream",
     "text": [
      "Welcome to the Cows and Bulls Game!\n"
     ]
    },
    {
     "name": "stdin",
     "output_type": "stream",
     "text": [
      "Enter a 4-digit number with unique digits:  7845\n"
     ]
    },
    {
     "name": "stdout",
     "output_type": "stream",
     "text": [
      "0 cows, 1 bulls\n"
     ]
    },
    {
     "name": "stdin",
     "output_type": "stream",
     "text": [
      "Enter a 4-digit number with unique digits:  234\n"
     ]
    },
    {
     "name": "stdout",
     "output_type": "stream",
     "text": [
      "Invalid input. Please enter a 4-digit number with unique digits.\n"
     ]
    },
    {
     "name": "stdin",
     "output_type": "stream",
     "text": [
      "Enter a 4-digit number with unique digits:  5344\n"
     ]
    },
    {
     "name": "stdout",
     "output_type": "stream",
     "text": [
      "Invalid input. Please enter a 4-digit number with unique digits.\n"
     ]
    },
    {
     "name": "stdin",
     "output_type": "stream",
     "text": [
      "Enter a 4-digit number with unique digits:  2543\n"
     ]
    },
    {
     "name": "stdout",
     "output_type": "stream",
     "text": [
      "0 cows, 3 bulls\n"
     ]
    },
    {
     "name": "stdin",
     "output_type": "stream",
     "text": [
      "Enter a 4-digit number with unique digits:  2454\n"
     ]
    },
    {
     "name": "stdout",
     "output_type": "stream",
     "text": [
      "Invalid input. Please enter a 4-digit number with unique digits.\n"
     ]
    },
    {
     "name": "stdin",
     "output_type": "stream",
     "text": [
      "Enter a 4-digit number with unique digits:  1344\n"
     ]
    },
    {
     "name": "stdout",
     "output_type": "stream",
     "text": [
      "Invalid input. Please enter a 4-digit number with unique digits.\n"
     ]
    },
    {
     "name": "stdin",
     "output_type": "stream",
     "text": [
      "Enter a 4-digit number with unique digits:  1545\n"
     ]
    },
    {
     "name": "stdout",
     "output_type": "stream",
     "text": [
      "Invalid input. Please enter a 4-digit number with unique digits.\n"
     ]
    },
    {
     "name": "stdin",
     "output_type": "stream",
     "text": [
      "Enter a 4-digit number with unique digits:  4256\n"
     ]
    },
    {
     "name": "stdout",
     "output_type": "stream",
     "text": [
      "1 cows, 1 bulls\n"
     ]
    },
    {
     "name": "stdin",
     "output_type": "stream",
     "text": [
      "Enter a 4-digit number with unique digits:  2451\n"
     ]
    },
    {
     "name": "stdout",
     "output_type": "stream",
     "text": [
      "0 cows, 3 bulls\n"
     ]
    },
    {
     "name": "stdin",
     "output_type": "stream",
     "text": [
      "Enter a 4-digit number with unique digits:  5743\n"
     ]
    },
    {
     "name": "stdout",
     "output_type": "stream",
     "text": [
      "0 cows, 2 bulls\n"
     ]
    },
    {
     "name": "stdin",
     "output_type": "stream",
     "text": [
      "Enter a 4-digit number with unique digits:  1234\n"
     ]
    },
    {
     "name": "stdout",
     "output_type": "stream",
     "text": [
      "4 cows, 0 bulls\n",
      "Congratulations! You guessed the number in 6 attempts.\n"
     ]
    }
   ],
   "source": [
    "play_game()"
   ]
  },
  {
   "cell_type": "code",
   "execution_count": null,
   "id": "7c36d176-90b7-476a-a568-fdb8369fd3c7",
   "metadata": {},
   "outputs": [],
   "source": []
  }
 ],
 "metadata": {
  "kernelspec": {
   "display_name": "Python 3 (ipykernel)",
   "language": "python",
   "name": "python3"
  },
  "language_info": {
   "codemirror_mode": {
    "name": "ipython",
    "version": 3
   },
   "file_extension": ".py",
   "mimetype": "text/x-python",
   "name": "python",
   "nbconvert_exporter": "python",
   "pygments_lexer": "ipython3",
   "version": "3.12.6"
  }
 },
 "nbformat": 4,
 "nbformat_minor": 5
}
