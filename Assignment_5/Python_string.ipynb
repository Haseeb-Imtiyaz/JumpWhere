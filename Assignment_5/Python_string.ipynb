{
 "cells": [
  {
   "cell_type": "code",
   "execution_count": 2,
   "id": "2eee1409-40fc-460f-8c02-919e28fcfc8b",
   "metadata": {},
   "outputs": [
    {
     "name": "stdin",
     "output_type": "stream",
     "text": [
      "Enter string dan\n"
     ]
    },
    {
     "name": "stdout",
     "output_type": "stream",
     "text": [
      "The length of string is: 3\n"
     ]
    }
   ],
   "source": [
    "#Write a Python program to calculate the length of a string.\n",
    "string=input(\"Enter string\")\n",
    "print('The length of string is:',len(string))"
   ]
  },
  {
   "cell_type": "code",
   "execution_count": 20,
   "id": "62dbcfe6-0b0f-4de5-8df5-4306cffea121",
   "metadata": {},
   "outputs": [
    {
     "name": "stdin",
     "output_type": "stream",
     "text": [
      "Enter string hhhaaasseeb\n"
     ]
    },
    {
     "name": "stdout",
     "output_type": "stream",
     "text": [
      "{'h': 3, 'a': 3, 's': 2, 'e': 2, 'b': 1}\n"
     ]
    }
   ],
   "source": [
    "'''\n",
    "2. Write a Python program to count the number of characters (character frequency) in a string. \n",
    "Sample String : google.com'\n",
    "Expected Result : {'o': 3, 'g': 2, '.': 1, 'e': 1, 'l': 1, 'm': 1, 'c': 1}\n",
    "'''\n",
    "results={}\n",
    "chars=input(\"Enter string\")\n",
    "for i in chars:\n",
    "    results[i]=chars.count(i)\n",
    "print(results)"
   ]
  },
  {
   "cell_type": "code",
   "execution_count": 16,
   "id": "6953cb91-f274-4b34-a29c-d7d17f50eb7e",
   "metadata": {},
   "outputs": [
    {
     "name": "stdin",
     "output_type": "stream",
     "text": [
      "Enter string a\n"
     ]
    },
    {
     "name": "stdout",
     "output_type": "stream",
     "text": [
      "Not enough chars\n",
      "[]\n"
     ]
    }
   ],
   "source": [
    "'''Write a Python program to get a string made of the first 2 and the last 2 chars from a given a string. If the string length is less than 2, return instead of the empty string. \n",
    "Sample String : 'thisisniceone'\n",
    "Expected Result : 'thne”'\n",
    "Sample String : 'ab'\n",
    "Expected Result : 'abab'\n",
    "Sample String : 'f'\n",
    "Expected Result : Empty String \n",
    "'''\n",
    "result=[]\n",
    "string=input(\"Enter string\")\n",
    "if len(string)==1:\n",
    "    print(\"Not enough chars\")\n",
    "else:\n",
    "    result.append(string[:2]+string[-2::])\n",
    "print(result)"
   ]
  },
  {
   "cell_type": "code",
   "execution_count": 20,
   "id": "e45309b2-d75d-4d2d-8dc6-27e4b9231d54",
   "metadata": {},
   "outputs": [
    {
     "name": "stdin",
     "output_type": "stream",
     "text": [
      "Enter string restart\n"
     ]
    },
    {
     "data": {
      "text/plain": [
       "'resta$t'"
      ]
     },
     "execution_count": 20,
     "metadata": {},
     "output_type": "execute_result"
    }
   ],
   "source": [
    "\"\"\" Write a Python program to get a string from a given string where all occurrences of its first char have been changed to '$', except the first char itself.\n",
    "Sample String : 'restart'\n",
    "Expected Result : 'resta$t'\"\"\"\n",
    "string=input(\"Enter string\")\n",
    "fc=string[0]\n",
    "fc+string[1:].replace(fc,'$')"
   ]
  },
  {
   "cell_type": "code",
   "execution_count": 22,
   "id": "cd87b494-f83e-40c7-bdfe-2b905a013f2e",
   "metadata": {},
   "outputs": [
    {
     "name": "stdin",
     "output_type": "stream",
     "text": [
      "Enter string abc\n",
      "Enter string xyz\n"
     ]
    },
    {
     "name": "stdout",
     "output_type": "stream",
     "text": [
      "xyc abz\n"
     ]
    }
   ],
   "source": [
    "\"\"\"Write a Python program to get a single string from two given strings, separated by a space and swap the first two characters of each string.\n",
    "Sample String : 'abc', 'xyz' \n",
    "Expected Result : 'xyc abz'\n",
    "\"\"\"\n",
    "str1=input(\"Enter string\")\n",
    "str2=input(\"Enter string\")\n",
    "print(str2[:2]+str1[2:]+' '+str1[:2]+str2[2:])"
   ]
  },
  {
   "cell_type": "code",
   "execution_count": 27,
   "id": "04c74b3e-da52-4461-96dd-0cf466d15330",
   "metadata": {},
   "outputs": [
    {
     "name": "stdin",
     "output_type": "stream",
     "text": [
      "Enter string has\n"
     ]
    },
    {
     "name": "stdout",
     "output_type": "stream",
     "text": [
      "hasing\n"
     ]
    }
   ],
   "source": [
    "\"\"\"Write a Python program to add 'ing' at the end of a given string (length should be at least 3). If the given string already ends with 'ing' then add 'ly' instead. If the string length of the given string is less than 3, leave it unchanged.\n",
    "Sample String : 'abc'\n",
    "Expected Result : 'abcing' \n",
    "Sample String : 'string'\n",
    "Expected Result : 'stringly'\n",
    "\"\"\"\n",
    "string=input(\"Enter string\")\n",
    "if len(string)<3:\n",
    "    print(string)\n",
    "else:\n",
    "    if string[-1:-4:-1]=='gni':\n",
    "        print(string+'ly')\n",
    "    else:\n",
    "        print(string+'ing')"
   ]
  },
  {
   "cell_type": "code",
   "execution_count": 29,
   "id": "ef7ac7bf-0192-4a0b-82f6-a3739301b9ae",
   "metadata": {},
   "outputs": [
    {
     "data": {
      "text/plain": [
       "'frrfrrfr'"
      ]
     },
     "execution_count": 29,
     "metadata": {},
     "output_type": "execute_result"
    }
   ],
   "source": [
    "\"\"\"Write a Python function that takes a list of words and returns the length of the longest one. \"\"\"\n",
    "def ftn(string):\n",
    "    lar=0\n",
    "    for i in string:\n",
    "        lar=0\n",
    "        if len(i)>lar:\n",
    "            lar=i\n",
    "    return lar\n",
    "lst=['has','eeedf','fr','frrfrrfr']\n",
    "ftn(lst)"
   ]
  },
  {
   "cell_type": "code",
   "execution_count": 34,
   "id": "7f34259d-d8dd-46e3-a857-201dac9b4645",
   "metadata": {},
   "outputs": [
    {
     "name": "stdin",
     "output_type": "stream",
     "text": [
      "Enter index 0\n"
     ]
    },
    {
     "name": "stdout",
     "output_type": "stream",
     "text": [
      "ello\n"
     ]
    }
   ],
   "source": [
    "\"\"\"9. Write a Python program to remove the nth index character from a nonempty string.\"\"\"\n",
    "string='hello'\n",
    "n=int(input(\"Enter index\"))\n",
    "print(string[:n]+string[n+1:])"
   ]
  },
  {
   "cell_type": "code",
   "execution_count": 70,
   "id": "27b25d44-498a-410e-bd60-ec12843dc3b3",
   "metadata": {},
   "outputs": [
    {
     "data": {
      "text/plain": [
       "['black', 'green', 'red', 'white']"
      ]
     },
     "execution_count": 70,
     "metadata": {},
     "output_type": "execute_result"
    }
   ],
   "source": [
    "\"\"\"10. Write a Python program that accepts a comma separated sequence of words as input and prints the unique words in sorted form (alphanumerically). \n",
    "Sample Words : red, white, black, red, green, black\n",
    "Expected Result : black, green, red, white\"\"\"\n",
    "words=\"red, white, black, red, green, black\"\n",
    "words=words.split(',')\n",
    "words1=[]\n",
    "for i in words:\n",
    "    words1.append(i.strip())\n",
    "unique_words = sorted(set(words1)) \n",
    "unique_words"
   ]
  },
  {
   "cell_type": "code",
   "execution_count": 74,
   "id": "141f933a-d64d-437d-90d8-3b6e706e3ced",
   "metadata": {},
   "outputs": [
    {
     "data": {
      "text/plain": [
       "'hase'"
      ]
     },
     "execution_count": 74,
     "metadata": {},
     "output_type": "execute_result"
    }
   ],
   "source": [
    "# Write a Python function to reverses a string if it's length is a multiple of 4. \n",
    "def rev(string):\n",
    "    if len(string)%4==0:\n",
    "        return string\n",
    "    else:\n",
    "        return None\n",
    "rev('hase')"
   ]
  },
  {
   "cell_type": "code",
   "execution_count": 104,
   "id": "e9a4f8b5-e3e0-48ad-bd43-aca09e25bcc5",
   "metadata": {},
   "outputs": [
    {
     "data": {
      "text/plain": [
       "'HASEEB'"
      ]
     },
     "execution_count": 104,
     "metadata": {},
     "output_type": "execute_result"
    }
   ],
   "source": [
    "# Write a Python function to convert a given string to all uppercase if it contains at least 2 uppercase characters in the first 4 characters.\n",
    "def cvt(string):\n",
    "    for i in range(4):\n",
    "        if string[i].isupper()==True:\n",
    "            string=string.upper()\n",
    "    return string\n",
    "\n",
    "cvt('hasEeb')"
   ]
  },
  {
   "cell_type": "code",
   "execution_count": 111,
   "id": "c68a802d-02e7-40f8-9b96-31a1c5a46850",
   "metadata": {},
   "outputs": [
    {
     "name": "stdin",
     "output_type": "stream",
     "text": [
      "Enter string danISH\n",
      "Enter char D\n"
     ]
    },
    {
     "name": "stdout",
     "output_type": "stream",
     "text": [
      "Yes!\n"
     ]
    }
   ],
   "source": [
    "# Write a Python program to check whether a string starts with specified characters.\n",
    "string=input(\"Enter string\").upper()\n",
    "char=input(\"Enter char\").upper()\n",
    "if string.startswith(char)==True:\n",
    "    print(\"Yes!\")\n",
    "else:\n",
    "    print(\"No!\")"
   ]
  },
  {
   "cell_type": "code",
   "execution_count": 128,
   "id": "7f3ce409-855a-4bfd-a8fe-19944e4b31a8",
   "metadata": {},
   "outputs": [
    {
     "name": "stdout",
     "output_type": "stream",
     "text": [
      "3.14\n"
     ]
    }
   ],
   "source": [
    "\"\"\" Write a Python program to print the following floating numbers upto 2 decimal places.\n",
    "3.1415926\n",
    "\"\"\"\n",
    "num=3.1415926\n",
    "print(f\"{num:.2f}\")"
   ]
  },
  {
   "cell_type": "code",
   "execution_count": 144,
   "id": "d8dc27e6-6291-455f-8a44-41cab0e3c4f7",
   "metadata": {},
   "outputs": [
    {
     "name": "stdin",
     "output_type": "stream",
     "text": [
      "Enter string:  thequickbrownfoxjumpsoverthelazydog\n"
     ]
    },
    {
     "name": "stdout",
     "output_type": "stream",
     "text": [
      "o 4\n",
      "u 2\n",
      "h 2\n",
      "e 3\n",
      "r 2\n",
      "t 2\n"
     ]
    }
   ],
   "source": [
    "\"\"\"\n",
    "15. Write a Python program to count repeated characters in a string.\n",
    "Sample string: 'thequickbrownfoxjumpsoverthelazydog'\n",
    "Expected output :\n",
    "o 4\n",
    "e 3\n",
    "u 2\n",
    "h 2\n",
    "r 2\n",
    "t 2\n",
    "\"\"\"\n",
    "string = input(\"Enter string: \")\n",
    "unique_chars = set(string)\n",
    "for char in unique_chars:\n",
    "    count = string.count(char)\n",
    "    if count > 1:\n",
    "        print(char, count)"
   ]
  },
  {
   "cell_type": "code",
   "execution_count": 143,
   "id": "18dcebe5-8773-4d1b-93ae-75d5f0a08703",
   "metadata": {},
   "outputs": [
    {
     "data": {
      "text/plain": [
       "{'a',\n",
       " 'b',\n",
       " 'c',\n",
       " 'd',\n",
       " 'e',\n",
       " 'f',\n",
       " 'g',\n",
       " 'h',\n",
       " 'i',\n",
       " 'j',\n",
       " 'k',\n",
       " 'l',\n",
       " 'm',\n",
       " 'n',\n",
       " 'o',\n",
       " 'p',\n",
       " 'q',\n",
       " 'r',\n",
       " 's',\n",
       " 't',\n",
       " 'u',\n",
       " 'v',\n",
       " 'w',\n",
       " 'x',\n",
       " 'y',\n",
       " 'z'}"
      ]
     },
     "execution_count": 143,
     "metadata": {},
     "output_type": "execute_result"
    }
   ],
   "source": [
    "# Write a Python program to print the index of the character in a string."
   ]
  },
  {
   "cell_type": "code",
   "execution_count": 145,
   "id": "4aca80b6-216c-4cb4-97e5-d81b61ae6960",
   "metadata": {},
   "outputs": [
    {
     "name": "stdin",
     "output_type": "stream",
     "text": [
      "Enter string thequickbrownfoxjumpsoverthelazydog\n",
      "Enter char q\n"
     ]
    },
    {
     "name": "stdout",
     "output_type": "stream",
     "text": [
      "3\n"
     ]
    }
   ],
   "source": [
    "# Write a Python program to print the index of the character in a string\n",
    "string=input(\"Enter string\")\n",
    "cha=input(\"Enter char\")\n",
    "print(string.index(cha))"
   ]
  },
  {
   "cell_type": "code",
   "execution_count": 149,
   "id": "75085f45-59da-4284-844b-cc57b1ea3670",
   "metadata": {},
   "outputs": [
    {
     "name": "stdin",
     "output_type": "stream",
     "text": [
      "Enter string haseeb\n"
     ]
    },
    {
     "name": "stdout",
     "output_type": "stream",
     "text": [
      "['h', 'a', 's', 'e', 'e', 'b']\n"
     ]
    }
   ],
   "source": [
    "# Write a Python program to convert a string in a list\n",
    "string=input(\"Enter string\")\n",
    "lst=[i for i in string]\n",
    "print(lst)"
   ]
  },
  {
   "cell_type": "code",
   "execution_count": 153,
   "id": "9973cfc5-4623-409f-8afe-8dde1d8155cc",
   "metadata": {},
   "outputs": [
    {
     "name": "stdout",
     "output_type": "stream",
     "text": [
      "32,054.23\n"
     ]
    }
   ],
   "source": [
    "\"\"\"18. Write a Python program to swap comma and dot in a string.\n",
    "Sample string: \"32.054,23\"\n",
    "Expected Output: \"32,054.23\"\n",
    "\"\"\"\n",
    "string=\"32.054,23\"\n",
    "string=string.replace(',','#')\n",
    "string=string.replace('.',',')\n",
    "string=string.replace('#','.')\n",
    "print(string)"
   ]
  },
  {
   "cell_type": "code",
   "execution_count": 171,
   "id": "95b96eda-29fb-473d-bb8c-cfe580fda756",
   "metadata": {},
   "outputs": [
    {
     "name": "stdout",
     "output_type": "stream",
     "text": [
      "('my', 2) [('imtiyaz', 7)]\n"
     ]
    }
   ],
   "source": [
    "# Write a Python program to find smallest and largest word in a given string.\n",
    "string_len={}\n",
    "string='Hi! my name is haseeb imtiyaz bhat'\n",
    "string_list=string.split(' ')\n",
    "for i in string_list:\n",
    "    string_len[i]=len(i)\n",
    "sorted_words = sorted(string_len.items(), key=lambda x: x[1])\n",
    "print(sorted_words[0],sorted_words[-1:])"
   ]
  },
  {
   "cell_type": "code",
   "execution_count": 174,
   "id": "64d73833-2315-491f-96cd-785f31650391",
   "metadata": {},
   "outputs": [
    {
     "name": "stdin",
     "output_type": "stream",
     "text": [
      "Enter a string:  absshvass\n"
     ]
    },
    {
     "name": "stdout",
     "output_type": "stream",
     "text": [
      "abshvas\n"
     ]
    }
   ],
   "source": [
    "#  Write a Python program to remove all consecutive duplicates of a given string.\n",
    "string = input(\"Enter a string: \")\n",
    "result = string[0]\n",
    "for i in range(1, len(string)):\n",
    "    if string[i] != string[i - 1]: \n",
    "        result += string[i]\n",
    "print(result)"
   ]
  },
  {
   "cell_type": "code",
   "execution_count": null,
   "id": "ec69fb3b-d26b-40d7-be4b-d85e10afeda5",
   "metadata": {},
   "outputs": [],
   "source": []
  }
 ],
 "metadata": {
  "kernelspec": {
   "display_name": "Python 3 (ipykernel)",
   "language": "python",
   "name": "python3"
  },
  "language_info": {
   "codemirror_mode": {
    "name": "ipython",
    "version": 3
   },
   "file_extension": ".py",
   "mimetype": "text/x-python",
   "name": "python",
   "nbconvert_exporter": "python",
   "pygments_lexer": "ipython3",
   "version": "3.12.6"
  }
 },
 "nbformat": 4,
 "nbformat_minor": 5
}
