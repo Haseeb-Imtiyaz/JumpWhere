{
 "cells": [
  {
   "cell_type": "code",
   "execution_count": 3,
   "id": "a798fda0-d7ab-4655-8198-7bd0d9bfaa91",
   "metadata": {},
   "outputs": [
    {
     "name": "stdout",
     "output_type": "stream",
     "text": [
      "1505\n",
      "1540\n",
      "1575\n",
      "1610\n",
      "1645\n",
      "1680\n",
      "1715\n",
      "1750\n",
      "1785\n",
      "1820\n",
      "1855\n",
      "1890\n",
      "1925\n",
      "1960\n",
      "1995\n",
      "2030\n",
      "2065\n",
      "2100\n",
      "2135\n",
      "2170\n",
      "2205\n",
      "2240\n",
      "2275\n",
      "2310\n",
      "2345\n",
      "2380\n",
      "2415\n",
      "2450\n",
      "2485\n",
      "2520\n",
      "2555\n",
      "2590\n",
      "2625\n",
      "2660\n",
      "2695\n"
     ]
    }
   ],
   "source": [
    "# Write a Python program to find those numbers which are divisible by 7 and multiple of 5, between 1500 and 2700 (both included)\n",
    "for i in range(1500,2701):\n",
    "    if i%7==0 and i%5==0:\n",
    "        print(i)"
   ]
  },
  {
   "cell_type": "code",
   "execution_count": 4,
   "id": "849d93d5-10e7-4903-aa3b-c212c2d9fcb8",
   "metadata": {},
   "outputs": [
    {
     "name": "stdout",
     "output_type": "stream",
     "text": [
      "0\n",
      "1\n",
      "2\n",
      "4\n",
      "5\n"
     ]
    }
   ],
   "source": [
    "\"\"\" Write a Python program that prints all the numbers from 0 to 6 except 3 and 6.\n",
    "Note : Use 'continue' statement.\n",
    "Expected Output : 0 1 2 4 5 \"\"\"\n",
    "for i in range(0,7):\n",
    "    if i == 3 or i == 6:\n",
    "        continue\n",
    "    else:\n",
    "        print(i)"
   ]
  },
  {
   "cell_type": "code",
   "execution_count": 11,
   "id": "64a0a3f8-bf3c-468c-aef1-178eecf1c0f9",
   "metadata": {},
   "outputs": [
    {
     "name": "stdout",
     "output_type": "stream",
     "text": [
      "1\n",
      "2\n",
      "Fizz\n",
      "4\n",
      "Buzz\n",
      "Fizz\n",
      "7\n",
      "8\n",
      "Fizz\n",
      "Buzz\n",
      "11\n",
      "Fizz\n",
      "13\n",
      "14\n",
      "FizzBuzz\n",
      "16\n",
      "17\n",
      "Fizz\n",
      "19\n",
      "Buzz\n",
      "Fizz\n",
      "22\n",
      "23\n",
      "Fizz\n",
      "Buzz\n",
      "26\n",
      "Fizz\n",
      "28\n",
      "29\n",
      "FizzBuzz\n",
      "31\n",
      "32\n",
      "Fizz\n",
      "34\n",
      "Buzz\n",
      "Fizz\n",
      "37\n",
      "38\n",
      "Fizz\n",
      "Buzz\n",
      "41\n",
      "Fizz\n",
      "43\n",
      "44\n",
      "FizzBuzz\n",
      "46\n",
      "47\n",
      "Fizz\n",
      "49\n",
      "Buzz\n"
     ]
    }
   ],
   "source": [
    "\"\"\" Write a Python program which iterates the integers from 1 to 50. For multiples of three print \"Fizz\" instead of the number and for the \n",
    "multiples of five print \"Buzz\". For numbers which are multiples of both three and five print \"FizzBuzz\".\"\"\"\n",
    "\n",
    "for i in range(1,51):\n",
    "    if i % 3 == 0 and i % 5==0:\n",
    "        print(\"FizzBuzz\")\n",
    "    elif i % 5 == 0:\n",
    "        print(\"Buzz\")\n",
    "    elif i % 3 == 0:\n",
    "        print(\"Fizz\")\n",
    "    else:\n",
    "        print(i)"
   ]
  },
  {
   "cell_type": "code",
   "execution_count": 15,
   "id": "2d1deb1d-f309-4556-99e5-d8624eeb5e78",
   "metadata": {},
   "outputs": [
    {
     "name": "stdin",
     "output_type": "stream",
     "text": [
      "Enter x 7\n",
      "Enter y 7\n",
      "Enter z 7\n"
     ]
    },
    {
     "name": "stdout",
     "output_type": "stream",
     "text": [
      "Equilateral triangle\n"
     ]
    }
   ],
   "source": [
    "\"\"\" Write a Python program to check a triangle is equilateral, isosceles or scalene.\n",
    "Note :\n",
    "An equilateral triangle is a triangle in which all three sides are equal.\n",
    "A scalene triangle is a triangle that has three unequal sides.\n",
    "An isosceles triangle is a triangle with two equal sides.\n",
    "Expected Output:\n",
    "Input lengths of the triangle sides:                                    \n",
    "x: 6                                                                    \n",
    "y: 8                                                                    \n",
    "z: 12                                                                   \n",
    "Scalene triangle \n",
    "\"\"\"\n",
    "x=int(input(\"Enter x\"))\n",
    "y=int(input(\"Enter y\"))\n",
    "z=int(input(\"Enter z\"))\n",
    "if x==y and x==z:\n",
    "    print(\"Equilateral triangle\")\n",
    "elif x!=y and x!=z:\n",
    "    print(\"Scalene triangle\")\n",
    "else:\n",
    "    print(\"Isosceles triangle\")"
   ]
  },
  {
   "cell_type": "code",
   "execution_count": 20,
   "id": "05b85d82-89dc-4a1c-bee0-c0b3afa113cb",
   "metadata": {},
   "outputs": [
    {
     "name": "stdin",
     "output_type": "stream",
     "text": [
      "Enter finish 12\n"
     ]
    },
    {
     "name": "stdout",
     "output_type": "stream",
     "text": [
      "78 6.50\n"
     ]
    }
   ],
   "source": [
    "# Write a Python program to calculate the sum and average of n integer numbers (input from the user). Input 0 to finish\n",
    "finish=int(input('Enter finish'))\n",
    "summ=0\n",
    "for i in range(0,finish+1):\n",
    "    summ=summ+i\n",
    "avg=summ/finish\n",
    "print(summ,f\"{avg:.2f}\")"
   ]
  },
  {
   "cell_type": "code",
   "execution_count": 42,
   "id": "2caf4437-a5d3-4c46-8d4b-6f0be2c35a7e",
   "metadata": {},
   "outputs": [
    {
     "name": "stdout",
     "output_type": "stream",
     "text": [
      "1\n",
      "22\n",
      "333\n",
      "4444\n",
      "55555\n",
      "666666\n",
      "7777777\n",
      "88888888\n",
      "999999999\n"
     ]
    }
   ],
   "source": [
    "\"\"\". Write a Python program to construct the following pattern, using a nested loop number.\n",
    "1\n",
    "22\n",
    "333\n",
    "4444\n",
    "55555\n",
    "666666\n",
    "7777777\n",
    "88888888\n",
    "999999999\n",
    "\"\"\"\n",
    "for i in range (1,10):\n",
    "    for j in range(i):\n",
    "        print(i,end='')\n",
    "    print(\"\\n\",end='')"
   ]
  },
  {
   "cell_type": "code",
   "execution_count": 44,
   "id": "9fac98c0-d77f-4bad-9a48-f091a55c693e",
   "metadata": {},
   "outputs": [
    {
     "name": "stdout",
     "output_type": "stream",
     "text": [
      "11\n"
     ]
    }
   ],
   "source": [
    "# Write a Python program that counts the number of elements within a list that are greater than 30\n",
    "c=0\n",
    "lst=[2,34,545,65,7,75,34,66,78,34,64,2,2,557,8,32,13,12,2,4]\n",
    "for i in lst:\n",
    "    if i > 30:\n",
    "        c+=1\n",
    "print(c)"
   ]
  },
  {
   "cell_type": "code",
   "execution_count": 47,
   "id": "bbb4ce72-1f1f-4137-a1f7-f382d2437f55",
   "metadata": {},
   "outputs": [
    {
     "name": "stdin",
     "output_type": "stream",
     "text": [
      "Enter l 1\n",
      "Enter b 1\n"
     ]
    },
    {
     "name": "stdout",
     "output_type": "stream",
     "text": [
      "Square\n"
     ]
    }
   ],
   "source": [
    "# Take values of length and breadth of a rectangle from user and check if it is square or not.\n",
    "l=int(input(\"Enter l\"))\n",
    "b=int(input(\"Enter b\"))\n",
    "if l == b:\n",
    "    print(\"Square\")\n",
    "else:\n",
    "    print(\"Rectangle\")"
   ]
  },
  {
   "cell_type": "code",
   "execution_count": 62,
   "id": "1297634f-78b4-4dab-8ac3-b134e57ff518",
   "metadata": {},
   "outputs": [
    {
     "name": "stdin",
     "output_type": "stream",
     "text": [
      "Enter quantity:  11\n"
     ]
    },
    {
     "name": "stdout",
     "output_type": "stream",
     "text": [
      "Total bill:  990.0\n"
     ]
    }
   ],
   "source": [
    "\"\"\"A shop will give discount of 10% if the cost of purchased quantity is more than 1000.\n",
    "Ask user for quantity\n",
    "Suppose, one unit will cost 100.\n",
    "Judge and print total cost for user.\n",
    "\"\"\"\n",
    "q=int(input(\"Enter quantity: \"))\n",
    "price=100*q\n",
    "if price>1000:\n",
    "    print(\"Total bill: \",price-(10*price/100))\n",
    "else:\n",
    "    print(\"Total bill: \",price)"
   ]
  },
  {
   "cell_type": "code",
   "execution_count": 63,
   "id": "e19779da-0929-49cd-a59b-1176ece45afe",
   "metadata": {},
   "outputs": [
    {
     "name": "stdin",
     "output_type": "stream",
     "text": [
      "Enter salary:  1200\n",
      "Enter service:  6\n"
     ]
    },
    {
     "name": "stdout",
     "output_type": "stream",
     "text": [
      "Net Bonus Amt:  60.0\n"
     ]
    }
   ],
   "source": [
    "\"\"\"A company decided to give bonus of 5% to employee if his/her year of service is more than 5 years.\n",
    "Ask user for their salary and year of service and print the net bonus amount.\n",
    "\"\"\"\n",
    "salary=int(input(\"Enter salary: \"))\n",
    "service=int(input(\"Enter service: \"))\n",
    "if service>5:\n",
    "    print(\"Net Bonus Amt: \",(5*salary/100))\n",
    "else:\n",
    "    print(\"No Bonus!!!\")\n"
   ]
  },
  {
   "cell_type": "code",
   "execution_count": 1,
   "id": "6bcd5278-3046-4e6b-9864-2b9bf0f7b9ca",
   "metadata": {},
   "outputs": [
    {
     "name": "stdin",
     "output_type": "stream",
     "text": [
      "Enter Marks:  34\n"
     ]
    },
    {
     "name": "stdout",
     "output_type": "stream",
     "text": [
      "E\n"
     ]
    }
   ],
   "source": [
    "\"\"\"11. A school has following rules for grading system:\n",
    "a. Below 25 - F\n",
    "b. 25 to 45 - E\n",
    "c. 45 to 50 - D\n",
    "d. 50 to 60 - C\n",
    "e. 60 to 80 - B\n",
    "f. Above 80 - A\n",
    "Ask user to enter marks and print the corresponding grade.\n",
    "\"\"\"\n",
    "marks=int(input(\"Enter Marks: \"))\n",
    "if marks<25:\n",
    "    print(\"F\")\n",
    "elif marks>25 and marks<45:\n",
    "    print(\"E\")\n",
    "elif marks>45 and marks<50:\n",
    "    print(\"D\")\n",
    "elif marks>50 and marks<60:\n",
    "    print(\"C\")\n",
    "elif marks>60 and marks<80:\n",
    "    print(\"B\")\n",
    "else:\n",
    "    print(\"A\")\n",
    "\n"
   ]
  },
  {
   "cell_type": "code",
   "execution_count": 4,
   "id": "bc49a019-79c7-4a28-b630-7bd746088842",
   "metadata": {},
   "outputs": [
    {
     "name": "stdin",
     "output_type": "stream",
     "text": [
      "Enter classes held 20\n",
      "classes attended 10\n"
     ]
    },
    {
     "name": "stdout",
     "output_type": "stream",
     "text": [
      "ATTENDACE 50.0\n",
      "NO!\n"
     ]
    }
   ],
   "source": [
    "\"\"\"12. A student will not be allowed to sit in exam if his/her attendence is less than 75%.\n",
    "Take following input from user\n",
    "Number of classes held\n",
    "Number of classes attended.\n",
    "And print\n",
    "percentage of class attended\n",
    "Is student is allowed to sit in exam or not\n",
    "\"\"\"\n",
    "classes_held=int(input(\"Enter classes held\"))\n",
    "classes_attended=int(input(\"classes attended\"))\n",
    "if classes_attended/classes_held>=0.75:\n",
    "    print(\"ATTENDACE\",(classes_attended/classes_held)*100)\n",
    "    print(\"YES!\")\n",
    "else:\n",
    "    print(\"ATTENDACE\",(classes_attended/classes_held)*100)\n",
    "    print(\"NO!\")"
   ]
  },
  {
   "cell_type": "code",
   "execution_count": 8,
   "id": "009d0b78-4625-47e5-a21c-faef44650523",
   "metadata": {},
   "outputs": [
    {
     "name": "stdin",
     "output_type": "stream",
     "text": [
      "Enter NO. : 1\n",
      "Enter NO. : 2\n",
      "Enter NO. : 3\n",
      "Enter NO. : 4\n",
      "Enter NO. : 5\n",
      "Enter NO. : 6\n",
      "Enter NO. : 7\n",
      "Enter NO. : 8\n",
      "Enter NO. : 9\n",
      "Enter NO. : 10\n"
     ]
    },
    {
     "name": "stdout",
     "output_type": "stream",
     "text": [
      "5.5\n"
     ]
    }
   ],
   "source": [
    "# Take 10 integers from keyboard using loop and print their average value on the screen\n",
    "nums=[]\n",
    "for i in range(10):\n",
    "    nums.append(int(input(\"Enter NO. :\")))\n",
    "print(sum(nums)/len(nums))"
   ]
  },
  {
   "cell_type": "code",
   "execution_count": 15,
   "id": "e681ba54-9acc-4670-8a87-90d335c2975d",
   "metadata": {},
   "outputs": [
    {
     "name": "stdout",
     "output_type": "stream",
     "text": [
      "24 * 1 =  24\n",
      "24 * 2 =  48\n",
      "24 * 3 =  72\n",
      "24 * 4 =  96\n",
      "24 * 5 =  120\n",
      "24 * 6 =  144\n",
      "24 * 7 =  168\n",
      "24 * 8 =  192\n",
      "24 * 9 =  216\n",
      "24 * 10 =  240\n",
      "-------------\n",
      "50 * 1 =  50\n",
      "50 * 2 =  100\n",
      "50 * 3 =  150\n",
      "50 * 4 =  200\n",
      "50 * 5 =  250\n",
      "50 * 6 =  300\n",
      "50 * 7 =  350\n",
      "50 * 8 =  400\n",
      "50 * 9 =  450\n",
      "50 * 10 =  500\n",
      "-------------\n",
      "29 * 1 =  29\n",
      "29 * 2 =  58\n",
      "29 * 3 =  87\n",
      "29 * 4 =  116\n",
      "29 * 5 =  145\n",
      "29 * 6 =  174\n",
      "29 * 7 =  203\n",
      "29 * 8 =  232\n",
      "29 * 9 =  261\n",
      "29 * 10 =  290\n",
      "-------------\n"
     ]
    }
   ],
   "source": [
    "# Print multiplication table of 24, 50 and 29 using loop.\n",
    "m=[24,50,29]\n",
    "for j in m:\n",
    "    for i in range(1,11):\n",
    "        print(f\"{j} * {i} = \",j*i)\n",
    "    print(\"-------------\")"
   ]
  },
  {
   "cell_type": "code",
   "execution_count": 18,
   "id": "027a6184-1c02-4327-9390-53e76763440c",
   "metadata": {},
   "outputs": [
    {
     "name": "stdin",
     "output_type": "stream",
     "text": [
      "input number 1\n",
      "input number 1\n",
      "input number 1\n",
      "input number 1\n",
      "input number q\n"
     ]
    },
    {
     "name": "stdout",
     "output_type": "stream",
     "text": [
      "4\n"
     ]
    }
   ],
   "source": [
    "# Take integer inputs from user until he/she presses q ( Ask to press q to quit after every integer input ). Print average and product of all numbers.\n",
    "sums=0\n",
    "while True:\n",
    "    x=input(\"input number\")\n",
    "    if x=='q':\n",
    "        print(sums)\n",
    "        break\n",
    "    else:\n",
    "        sums=sums+int(x)"
   ]
  },
  {
   "cell_type": "code",
   "execution_count": 20,
   "id": "fa358516-7d17-4f06-9cc6-9f89c4deb490",
   "metadata": {},
   "outputs": [
    {
     "name": "stdin",
     "output_type": "stream",
     "text": [
      "input number 1\n",
      "input number 2\n",
      "input number 3\n",
      "input number 4\n",
      "input number f\n",
      "input number gt\n",
      "input number tg\n",
      "input number gt\n",
      "input number q\n"
     ]
    },
    {
     "name": "stdout",
     "output_type": "stream",
     "text": [
      "['1', '2', '3', '4', 'f', 'gt', 'tg', 'gt']\n"
     ]
    },
    {
     "name": "stdin",
     "output_type": "stream",
     "text": [
      "Enter Element gt\n"
     ]
    },
    {
     "name": "stdout",
     "output_type": "stream",
     "text": [
      "['1', '2', '3', '4', 'f', 'tg']\n"
     ]
    }
   ],
   "source": [
    "\"\"\"Take inputs from user to make a list. Again take one input from user and search it in the list and delete that element, \n",
    "if found. Iterate over list using for loop.\"\"\"\n",
    "lst=[]\n",
    "while True:\n",
    "    x=input(\"input number\")\n",
    "    if x=='q':\n",
    "        print(lst)\n",
    "        break\n",
    "    else:\n",
    "        lst.append(x)\n",
    "ele=input(\"Enter Element\")\n",
    "for i in lst:\n",
    "    if i == ele:\n",
    "        lst.remove(ele)\n",
    "print(lst)"
   ]
  },
  {
   "cell_type": "code",
   "execution_count": 24,
   "id": "2def9c31-212b-4d91-b62e-650c32ead49a",
   "metadata": {},
   "outputs": [
    {
     "name": "stdout",
     "output_type": "stream",
     "text": [
      "Even no:  [2, 4, 6, 8, 10, 12, 14, 16, 18, 20, 22, 24, 26, 28, 30, 32, 34, 36, 38, 40, 42, 44, 46, 48, 50, 52, 54, 56, 58, 60, 62, 64, 66, 68, 70, 72, 74, 76, 78, 80, 82, 84, 86, 88, 90, 92, 94, 96, 98, 100]\n",
      "Odd no:  [1, 3, 5, 7, 9, 11, 13, 15, 17, 19, 21, 23, 25, 27, 29, 31, 33, 35, 37, 39, 41, 43, 45, 47, 49, 51, 53, 55, 57, 59, 61, 63, 65, 67, 69, 71, 73, 75, 77, 79, 81, 83, 85, 87, 89, 91, 93, 95, 97, 99]\n",
      "Prime no:  [1, 2, 3, 5, 7, 11, 13, 17, 19, 23, 29, 31, 37, 41, 43, 47, 53, 59, 61, 67, 71, 73, 79, 83, 89, 97]\n"
     ]
    }
   ],
   "source": [
    "\"\"\" Using range(1,101), make three list, \n",
    "one containing all even numbers\n",
    "one containing all odd numbers \n",
    "One containing only prime numbers..\n",
    "\"\"\"\n",
    "even_num=[i for i in range(1,101) if i%2==0]\n",
    "odd_num=[i for i in range(1,101) if i%2!=0]\n",
    "prime_num=[]\n",
    "for i in range(1,101):\n",
    "    c=0\n",
    "    for j in range(1,i):\n",
    "        if i%j==0:\n",
    "            c+=1\n",
    "    if c<2:\n",
    "        prime_num.append(i)\n",
    "print('Even no: ',even_num)\n",
    "print('Odd no: ',odd_num)\n",
    "print(\"Prime no: \",prime_num)"
   ]
  },
  {
   "cell_type": "code",
   "execution_count": 25,
   "id": "416f2135-00bc-4e96-84c4-f8b515212647",
   "metadata": {},
   "outputs": [
    {
     "name": "stdout",
     "output_type": "stream",
     "text": [
      "[1, 3, 5, 7, 9, 11, 13, 15, 17, 19, 21, 23, 25, 27, 29, 31, 33, 35, 37, 39, 41, 43, 45, 47, 49, 51, 53, 55, 57, 59, 61, 63, 65, 67, 69, 71, 73, 75, 77, 79, 81, 83, 85, 87, 89, 91, 93, 95, 97, 99, 2, 4, 6, 8, 10, 12, 14, 16, 18, 20, 22, 24, 26, 28, 30, 32, 34, 36, 38, 40, 42, 44, 46, 48, 50, 52, 54, 56, 58, 60, 62, 64, 66, 68, 70, 72, 74, 76, 78, 80, 82, 84, 86, 88, 90, 92, 94, 96, 98, 100]\n"
     ]
    }
   ],
   "source": [
    "\"\"\" From the two list obtained in previous question, make new lists, containing only \n",
    "numbers which are divisible by 4, 6, 8, 10, 3, 5, 7 and 9 in separate lists.\"\"\"\n",
    "new_list=odd_num+even_num\n",
    "lst=[]\n",
    "for i in new_list:\n",
    "    if i%4 or i%6 or i%8 or i%10 or i%3 or i%5 or i%7 or i%9:\n",
    "        lst.append(i)\n",
    "print(lst)"
   ]
  },
  {
   "cell_type": "code",
   "execution_count": 31,
   "id": "446b8b9a-965e-4081-955f-f0fe1c1dc7c5",
   "metadata": {},
   "outputs": [
    {
     "name": "stdout",
     "output_type": "stream",
     "text": [
      "float_list:  [42.4, 4.3, 23.4, 32.2, 35.3]\n",
      "int_list:  [43, 4, 23, 23]\n",
      "string_list:  ['fr', 'fe', 'e', 'g', 'fr']\n"
     ]
    }
   ],
   "source": [
    "# From a list containing ints, strings and floats, make three lists to store them separately\n",
    "float_list=[]\n",
    "int_list=[]\n",
    "string_list=[]\n",
    "values=[43,42.4,4.3,4,'fr','fe','e',23,23.4,23,32.2,35.3,'g','fr']\n",
    "for i in values:\n",
    "    if type(i)==int:\n",
    "        int_list.append(i)\n",
    "    elif type(i)==float:\n",
    "        float_list.append(i)\n",
    "    else:\n",
    "        string_list.append(i)\n",
    "print(\"float_list: \",float_list)\n",
    "print(\"int_list: \",int_list)\n",
    "print(\"string_list: \",string_list)"
   ]
  },
  {
   "cell_type": "code",
   "execution_count": 32,
   "id": "36de2dae-9c85-4fad-88e0-85098ad9ce06",
   "metadata": {},
   "outputs": [
    {
     "name": "stdout",
     "output_type": "stream",
     "text": [
      "[1, 4, 9, 16, 25, 36, 49, 64, 81, 100]\n"
     ]
    }
   ],
   "source": [
    "# You are given with a list of integer elements. Make a new list which will store square of elements of previous list.\n",
    "lst=[1,2,3,4,5,6,7,8,9,10]\n",
    "sqr_list=[i*i for i in lst]\n",
    "print(sqr_list)"
   ]
  }
 ],
 "metadata": {
  "kernelspec": {
   "display_name": "Python 3 (ipykernel)",
   "language": "python",
   "name": "python3"
  },
  "language_info": {
   "codemirror_mode": {
    "name": "ipython",
    "version": 3
   },
   "file_extension": ".py",
   "mimetype": "text/x-python",
   "name": "python",
   "nbconvert_exporter": "python",
   "pygments_lexer": "ipython3",
   "version": "3.12.6"
  }
 },
 "nbformat": 4,
 "nbformat_minor": 5
}
